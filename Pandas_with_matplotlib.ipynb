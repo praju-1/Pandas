{
 "cells": [
  {
   "cell_type": "markdown",
   "id": "058ff7ba",
   "metadata": {},
   "source": [
    "# Plotting using pandas dataframe"
   ]
  },
  {
   "cell_type": "markdown",
   "id": "82119562",
   "metadata": {},
   "source": [
    "It includes\n",
    "1. Plotting with creating dataframe\n",
    "2. Plotting with csv file\n",
    "3. Save plot to file"
   ]
  },
  {
   "cell_type": "markdown",
   "id": "f13e4864",
   "metadata": {},
   "source": [
    "# 1. Plotting with creating dataframe"
   ]
  },
  {
   "cell_type": "code",
   "execution_count": 52,
   "id": "8a692122",
   "metadata": {},
   "outputs": [
    {
     "data": {
      "text/html": [
       "<div>\n",
       "<style scoped>\n",
       "    .dataframe tbody tr th:only-of-type {\n",
       "        vertical-align: middle;\n",
       "    }\n",
       "\n",
       "    .dataframe tbody tr th {\n",
       "        vertical-align: top;\n",
       "    }\n",
       "\n",
       "    .dataframe thead th {\n",
       "        text-align: right;\n",
       "    }\n",
       "</style>\n",
       "<table border=\"1\" class=\"dataframe\">\n",
       "  <thead>\n",
       "    <tr style=\"text-align: right;\">\n",
       "      <th></th>\n",
       "      <th>name</th>\n",
       "      <th>age</th>\n",
       "      <th>gender</th>\n",
       "      <th>state</th>\n",
       "      <th>num_children</th>\n",
       "      <th>num_pets</th>\n",
       "    </tr>\n",
       "  </thead>\n",
       "  <tbody>\n",
       "    <tr>\n",
       "      <th>0</th>\n",
       "      <td>john</td>\n",
       "      <td>23</td>\n",
       "      <td>M</td>\n",
       "      <td>california</td>\n",
       "      <td>2</td>\n",
       "      <td>5</td>\n",
       "    </tr>\n",
       "    <tr>\n",
       "      <th>1</th>\n",
       "      <td>mary</td>\n",
       "      <td>78</td>\n",
       "      <td>F</td>\n",
       "      <td>dc</td>\n",
       "      <td>0</td>\n",
       "      <td>1</td>\n",
       "    </tr>\n",
       "    <tr>\n",
       "      <th>2</th>\n",
       "      <td>peter</td>\n",
       "      <td>22</td>\n",
       "      <td>M</td>\n",
       "      <td>california</td>\n",
       "      <td>0</td>\n",
       "      <td>0</td>\n",
       "    </tr>\n",
       "    <tr>\n",
       "      <th>3</th>\n",
       "      <td>jeff</td>\n",
       "      <td>19</td>\n",
       "      <td>M</td>\n",
       "      <td>dc</td>\n",
       "      <td>3</td>\n",
       "      <td>5</td>\n",
       "    </tr>\n",
       "    <tr>\n",
       "      <th>4</th>\n",
       "      <td>bill</td>\n",
       "      <td>45</td>\n",
       "      <td>M</td>\n",
       "      <td>california</td>\n",
       "      <td>2</td>\n",
       "      <td>2</td>\n",
       "    </tr>\n",
       "    <tr>\n",
       "      <th>5</th>\n",
       "      <td>lisa</td>\n",
       "      <td>33</td>\n",
       "      <td>F</td>\n",
       "      <td>texas</td>\n",
       "      <td>1</td>\n",
       "      <td>2</td>\n",
       "    </tr>\n",
       "    <tr>\n",
       "      <th>6</th>\n",
       "      <td>jose</td>\n",
       "      <td>20</td>\n",
       "      <td>M</td>\n",
       "      <td>texas</td>\n",
       "      <td>4</td>\n",
       "      <td>3</td>\n",
       "    </tr>\n",
       "  </tbody>\n",
       "</table>\n",
       "</div>"
      ],
      "text/plain": [
       "    name  age gender       state  num_children  num_pets\n",
       "0   john   23      M  california             2         5\n",
       "1   mary   78      F          dc             0         1\n",
       "2  peter   22      M  california             0         0\n",
       "3   jeff   19      M          dc             3         5\n",
       "4   bill   45      M  california             2         2\n",
       "5   lisa   33      F       texas             1         2\n",
       "6   jose   20      M       texas             4         3"
      ]
     },
     "execution_count": 52,
     "metadata": {},
     "output_type": "execute_result"
    }
   ],
   "source": [
    "#importing module\n",
    "import pandas as pd\n",
    "import matplotlib.pyplot as plt\n",
    "\n",
    "#Creating dataframe\n",
    "df = pd.DataFrame({\n",
    "    'name':['john','mary','peter','jeff','bill','lisa','jose'],\n",
    "    'age':[23,78,22,19,45,33,20],\n",
    "    'gender':['M','F','M','M','M','F','M'],\n",
    "    'state':['california','dc','california','dc','california','texas','texas'],\n",
    "    'num_children':[2,0,0,3,2,1,4],\n",
    "    'num_pets':[5,1,0,5,2,2,3]\n",
    "})\n",
    "df"
   ]
  },
  {
   "cell_type": "code",
   "execution_count": 56,
   "id": "ffd412b6",
   "metadata": {},
   "outputs": [
    {
     "data": {
      "text/plain": [
       "<AxesSubplot:>"
      ]
     },
     "execution_count": 56,
     "metadata": {},
     "output_type": "execute_result"
    },
    {
     "data": {
      "image/png": "[encoded data removed]",
      "text/plain": [
       "<Figure size 432x288 with 1 Axes>"
      ]
     },
     "metadata": {
      "needs_background": "light"
     },
     "output_type": "display_data"
    }
   ],
   "source": [
    "df.plot()"
   ]
  },
  {
   "cell_type": "markdown",
   "id": "7dd46fc1",
   "metadata": {},
   "source": [
    "- Bar plot of column values"
   ]
  },
  {
   "cell_type": "code",
   "execution_count": 54,
   "id": "b5a77596",
   "metadata": {},
   "outputs": [
    {
     "data": {
      "text/plain": [
       "<AxesSubplot:xlabel='name'>"
      ]
     },
     "execution_count": 54,
     "metadata": {},
     "output_type": "execute_result"
    },
    {
     "data": {
      "image/png": "[encoded data removed]",
      "text/plain": [
       "<Figure size 432x288 with 1 Axes>"
      ]
     },
     "metadata": {
      "needs_background": "light"
     },
     "output_type": "display_data"
    }
   ],
   "source": [
    "# a simple bar plot with column values\n",
    "df.plot(kind='bar',x='name',y='age')"
   ]
  },
  {
   "cell_type": "markdown",
   "id": "3c4e48f5",
   "metadata": {},
   "source": [
    "# 2. Plotting using csv file"
   ]
  },
  {
   "cell_type": "markdown",
   "id": "376291e4",
   "metadata": {},
   "source": [
    "- Pandas uses the plot() method to create diagrams.\n",
    "- We can use Pyplot, a submodule of the Matplotlib library to visualize the diagram on the screen."
   ]
  },
  {
   "cell_type": "markdown",
   "id": "4e9fbea7",
   "metadata": {},
   "source": [
    "- Read more about Matplotlib in my repository matplotlib_python"
   ]
  },
  {
   "cell_type": "code",
   "execution_count": 43,
   "id": "c81f3a22",
   "metadata": {},
   "outputs": [
    {
     "name": "stdout",
     "output_type": "stream",
     "text": [
      "    Duration          Date  Pulse  Maxpulse  Calories\n",
      "0         60  '2020/12/01'  110.0       130     409.1\n",
      "1         60  '2020/12/02'  117.0       145     479.0\n",
      "2         60  '2020/12/03'  103.0       135     340.0\n",
      "3         45  '2020/12/04'  109.0       175     282.4\n",
      "4         45  '2020/12/05'  117.0       148     406.0\n",
      "5         60  '2020/12/06'  102.0       127     300.0\n",
      "6         60  '2020/12/07'  110.0       136     374.0\n",
      "7        450  '2020/12/08'  104.0       134     253.3\n",
      "8         30  '2020/12/09'  109.0       133     195.1\n",
      "9         60  '2020/12/10'   98.0       124     269.0\n",
      "10        60  '2020/12/11'  103.0       147     329.3\n",
      "11        60  '2020/12/12'  100.0       120     250.7\n",
      "12        60  '2020/12/12'  100.0       120     250.7\n",
      "13        60  '2020/12/13'    NaN       128     345.3\n",
      "14        60  '2020/12/14'  104.0       132     379.3\n",
      "15        60  '2020/12/15'   98.0       123     275.0\n",
      "16        60  '2020/12/16'   98.0       120     215.2\n",
      "17        60  '2020/12/17'  100.0       120     300.0\n",
      "18        45  '2020/12/18'   90.0       112       NaN\n",
      "19        60  '2020/12/19'  103.0       123     323.0\n",
      "20        45  '2020/12/20'   97.0       125     243.0\n",
      "21        60  '2020/12/21'  108.0       131     364.2\n",
      "22        45           NaN  100.0       119     282.0\n",
      "23        60  '2020/12/23'  130.0       101     300.0\n",
      "24        45  '2020/12/24'  105.0       132     246.0\n",
      "25        60  '2020/12/25'  102.0       126     334.5\n",
      "26        60      20201226  100.0       120     250.0\n",
      "27        60  '2020/12/27'   92.0       118     241.0\n",
      "28        60  '2020/12/28'  103.0       132       NaN\n",
      "29        60  '2020/12/29'  100.0       132     280.0\n",
      "30        60  '2020/12/30'  102.0       129     380.3\n",
      "31        60  '2020/12/31'   92.0       115     243.0\n"
     ]
    }
   ],
   "source": [
    "#importing module\n",
    "import pandas as pd\n",
    "import matplotlib.pyplot as plt\n",
    "\n",
    "#Reading csv file\n",
    "df = pd.read_csv(\"F:\\\\PGD_Data_Science\\\\Lecture_video\\\\panda\\\\dirtydata.csv\")\n",
    "\n",
    "#Display full dataframe of file\n",
    "print(df.to_string())"
   ]
  },
  {
   "cell_type": "code",
   "execution_count": 13,
   "id": "b32642de",
   "metadata": {},
   "outputs": [
    {
     "data": {
      "text/plain": [
       "<AxesSubplot:>"
      ]
     },
     "execution_count": 13,
     "metadata": {},
     "output_type": "execute_result"
    },
    {
     "data": {
      "image/png": "[encoded data removed]",
      "text/plain": [
       "<Figure size 432x288 with 1 Axes>"
      ]
     },
     "metadata": {
      "needs_background": "light"
     },
     "output_type": "display_data"
    }
   ],
   "source": [
    "# importing module\n",
    "import pandas as pd\n",
    "import matplotlib.pyplot as plt\n",
    "\n",
    "#Reading csv file using pandas dataframe\n",
    "df = pd.read_csv(\"F:\\\\PGD_Data_Science\\\\Lecture_video\\\\panda\\\\dirtydata.csv\")\n",
    "\n",
    "#plotting file\n",
    "df.plot()\n",
    "\n",
    "#plt.show()"
   ]
  },
  {
   "cell_type": "markdown",
   "id": "11a8b5fc",
   "metadata": {},
   "source": [
    "# Scatter Plot"
   ]
  },
  {
   "cell_type": "markdown",
   "id": "218872c4",
   "metadata": {},
   "source": [
    "- Specify that you want a scatter plot with the kind argument:\n",
    "\n",
    "- kind = 'scatter'\n",
    "\n",
    "- A scatter plot needs an x- and a y-axis."
   ]
  },
  {
   "cell_type": "code",
   "execution_count": 45,
   "id": "33ebb3f9",
   "metadata": {},
   "outputs": [
    {
     "data": {
      "text/plain": [
       "<AxesSubplot:xlabel='Pulse', ylabel='Calories'>"
      ]
     },
     "execution_count": 45,
     "metadata": {},
     "output_type": "execute_result"
    },
    {
     "data": {
      "image/png": "[encoded data removed]",
      "text/plain": [
       "<Figure size 432x288 with 1 Axes>"
      ]
     },
     "metadata": {
      "needs_background": "light"
     },
     "output_type": "display_data"
    }
   ],
   "source": [
    "#importing module\n",
    "import pandas as pd\n",
    "import matplotlib.pyplot as plt\n",
    "\n",
    "#Reading csv file\n",
    "df = pd.read_csv(\"F:\\\\PGD_Data_Science\\\\Lecture_video\\\\panda\\\\dirtydata.csv\")\n",
    "\n",
    "#plotting scatter plot\n",
    "df.plot(kind = 'scatter', x = 'Pulse', y = 'Calories', c = 'Green')\n",
    "\n",
    "#plt.show()"
   ]
  },
  {
   "cell_type": "markdown",
   "id": "2e6ed1b1",
   "metadata": {},
   "source": [
    "# Histogram"
   ]
  },
  {
   "cell_type": "markdown",
   "id": "b73a8dfe",
   "metadata": {},
   "source": [
    "- Use the kind argument to specify that you want a histogram:\n",
    "\n",
    "- kind = 'hist'\n",
    "\n",
    "- A histogram needs only one column."
   ]
  },
  {
   "cell_type": "code",
   "execution_count": 31,
   "id": "d8d5d3a1",
   "metadata": {},
   "outputs": [
    {
     "data": {
      "text/plain": [
       "<AxesSubplot:ylabel='Frequency'>"
      ]
     },
     "execution_count": 31,
     "metadata": {},
     "output_type": "execute_result"
    },
    {
     "data": {
      "image/png": "[encoded data removed]",
      "text/plain": [
       "<Figure size 432x288 with 1 Axes>"
      ]
     },
     "metadata": {
      "needs_background": "light"
     },
     "output_type": "display_data"
    }
   ],
   "source": [
    "#importing module\n",
    "import pandas as pd\n",
    "import matplotlib.pyplot as plt\n",
    "\n",
    "#Reading csv file\n",
    "df = pd.read_csv(\"F:\\\\PGD_Data_Science\\\\Lecture_video\\\\panda\\\\dirtydata.csv\")\n",
    "\n",
    "#plotting histrogram of specified column from file\n",
    "df[\"Maxpulse\"].plot(kind = 'hist', bins = 20)"
   ]
  },
  {
   "cell_type": "markdown",
   "id": "9be981c5",
   "metadata": {},
   "source": [
    "# Bar plot"
   ]
  },
  {
   "cell_type": "code",
   "execution_count": 34,
   "id": "47684e6f",
   "metadata": {},
   "outputs": [
    {
     "data": {
      "text/plain": [
       "<AxesSubplot:xlabel='Pulse'>"
      ]
     },
     "execution_count": 34,
     "metadata": {},
     "output_type": "execute_result"
    },
    {
     "data": {
      "image/png": "[encoded data removed]",
      "text/plain": [
       "<Figure size 432x288 with 1 Axes>"
      ]
     },
     "metadata": {
      "needs_background": "light"
     },
     "output_type": "display_data"
    }
   ],
   "source": [
    "#importing module\n",
    "import pandas as pd\n",
    "import matplotlib.pyplot as plt\n",
    "\n",
    "#Reading csv file\n",
    "df = pd.read_csv(\"F:\\\\PGD_Data_Science\\\\Lecture_video\\\\panda\\\\dirtydata.csv\")\n",
    "\n",
    "#plotting scatter plot\n",
    "df.plot(kind = 'bar', x = 'Pulse', y = 'Calories')\n",
    "\n",
    "#plt.show()"
   ]
  },
  {
   "cell_type": "markdown",
   "id": "6c3f181a",
   "metadata": {},
   "source": [
    "# Bar plot with group by"
   ]
  },
  {
   "cell_type": "code",
   "execution_count": 41,
   "id": "e0970029",
   "metadata": {},
   "outputs": [
    {
     "data": {
      "text/plain": [
       "<AxesSubplot:xlabel='Pulse'>"
      ]
     },
     "execution_count": 41,
     "metadata": {},
     "output_type": "execute_result"
    },
    {
     "data": {
      "image/png": "[encoded data removed]",
      "text/plain": [
       "<Figure size 432x288 with 1 Axes>"
      ]
     },
     "metadata": {
      "needs_background": "light"
     },
     "output_type": "display_data"
    }
   ],
   "source": [
    "import matplotlib.pyplot as plt\n",
    "import pandas as pd\n",
    "\n",
    "df.groupby('Pulse')['Calories'].nunique().plot(kind='bar')\n",
    "#plt.show()"
   ]
  },
  {
   "cell_type": "markdown",
   "id": "6b8cc1b9",
   "metadata": {},
   "source": [
    "# 3. Save plot to file"
   ]
  },
  {
   "cell_type": "markdown",
   "id": "b1056243",
   "metadata": {},
   "source": [
    "- Instead of calling plt.show(), call plt.savefig('outputfile.png'):"
   ]
  },
  {
   "cell_type": "code",
   "execution_count": 42,
   "id": "1d4b3b74",
   "metadata": {},
   "outputs": [
    {
     "data": {
      "image/png": "[encoded data removed]",
      "text/plain": [
       "<Figure size 432x288 with 1 Axes>"
      ]
     },
     "metadata": {
      "needs_background": "light"
     },
     "output_type": "display_data"
    }
   ],
   "source": [
    "#importing module\n",
    "import pandas as pd\n",
    "import matplotlib.pyplot as plt\n",
    "\n",
    "#Reading csv file\n",
    "df = pd.read_csv(\"F:\\\\PGD_Data_Science\\\\Lecture_video\\\\panda\\\\dirtydata.csv\")\n",
    "\n",
    "#plotting scatter plot\n",
    "df.plot(kind = 'bar', x = 'Pulse', y = 'Calories')\n",
    "\n",
    "# the plot gets saved to 'output.png'\n",
    "plt.savefig('output.png')"
   ]
  }
 ],
 "metadata": {
  "kernelspec": {
   "display_name": "Python 3 (ipykernel)",
   "language": "python",
   "name": "python3"
  },
  "language_info": {
   "codemirror_mode": {
    "name": "ipython",
    "version": 3
   },
   "file_extension": ".py",
   "mimetype": "text/x-python",
   "name": "python",
   "nbconvert_exporter": "python",
   "pygments_lexer": "ipython3",
   "version": "3.9.12"
  }
 },
 "nbformat": 4,
 "nbformat_minor": 5
}
